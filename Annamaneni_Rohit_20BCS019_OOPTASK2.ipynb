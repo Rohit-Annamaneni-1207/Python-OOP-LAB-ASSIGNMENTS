{
  "nbformat": 4,
  "nbformat_minor": 0,
  "metadata": {
    "colab": {
      "name": "Annamaneni_Rohit_20BCS019_OOPTASK2.ipynb",
      "provenance": [],
      "collapsed_sections": [],
      "authorship_tag": "ABX9TyMZMqMtZiO3NeVxXHm4fOZ0",
      "include_colab_link": true
    },
    "kernelspec": {
      "name": "python3",
      "display_name": "Python 3"
    },
    "language_info": {
      "name": "python"
    }
  },
  "cells": [
    {
      "cell_type": "markdown",
      "metadata": {
        "id": "view-in-github",
        "colab_type": "text"
      },
      "source": [
        "<a href=\"https://colab.research.google.com/github/Rohit-Annamaneni-1207/Python-OOP-LAB-ASSIGNMENTS/blob/main/Annamaneni_Rohit_20BCS019_OOPTASK2.ipynb\" target=\"_parent\"><img src=\"https://colab.research.google.com/assets/colab-badge.svg\" alt=\"Open In Colab\"/></a>"
      ]
    },
    {
      "cell_type": "code",
      "metadata": {
        "colab": {
          "base_uri": "https://localhost:8080/"
        },
        "id": "Z5Mqo7tqm61Y",
        "outputId": "5108f1c9-3868-41c8-a31c-178ec3d375f5"
      },
      "source": [
        "import numpy as np\n",
        "\n",
        "class Circle:\n",
        "  def __init__(self, radius):\n",
        "    self.radius = radius\n",
        "\n",
        "  def perimeter(self):\n",
        "    return 2*np.pi*self.radius\n",
        "\n",
        "  def area(self):\n",
        "    return np.pi*(self.radius**2)\n",
        "\n",
        "r = int(input(\"Enter the radius: \"))\n",
        "circle = Circle(r)\n",
        "print(\"Perimeter:\", circle.perimeter())\n",
        "print(\"Area:\", circle.area())"
      ],
      "execution_count": null,
      "outputs": [
        {
          "output_type": "stream",
          "name": "stdout",
          "text": [
            "Enter the radius: 10\n",
            "Perimeter: 62.83185307179586\n",
            "Area: 314.1592653589793\n"
          ]
        }
      ]
    },
    {
      "cell_type": "code",
      "metadata": {
        "colab": {
          "base_uri": "https://localhost:8080/"
        },
        "id": "RpNI7GcLoweM",
        "outputId": "d3ae4a07-c7f2-409a-cab7-d02dc372d8c1"
      },
      "source": [
        "class teacher:\n",
        "  def __init__(self, Name, EmpID, Branch, Salary):\n",
        "    self.Name = Name\n",
        "    self.EmpID = EmpID\n",
        "    self.Branch = Branch\n",
        "    self.Salary = Salary\n",
        "\n",
        "  def dispDetails(self):\n",
        "    print(\"=================================================\")\n",
        "    print(\"Name:\", self.Name)\n",
        "    print(\"Emp ID:\", self.EmpID)\n",
        "    print(\"Branch:\", self.Branch)\n",
        "    print(\"Salary:\", self.Salary)\n",
        "    print(\"=================================================\")\n",
        "\n",
        "teach_list = []\n",
        "for i in range(10):\n",
        "  print(\"=================================================\")\n",
        "  Name = str(input(\"Enter the name: \"))\n",
        "  Emp_ID = str(input(\"Enter the Employee ID: \")) \n",
        "  Branch = str(input(\"Enter the branch: \"))\n",
        "  Salary = int(input(\"Enter the salary: \"))\n",
        "  teach_list.append(teacher(Name, Emp_ID, Branch, Salary))\n",
        "  print(\"=================================================\")\n",
        "\n",
        "for i in range(10):\n",
        "  teach_list[i].dispDetails()"
      ],
      "execution_count": null,
      "outputs": [
        {
          "output_type": "stream",
          "name": "stdout",
          "text": [
            "=================================================\n",
            "Enter the name: A\n",
            "Enter the Employee ID: CSA\n",
            "Enter the branch: CSE\n",
            "Enter the salary: 1000\n",
            "=================================================\n",
            "=================================================\n",
            "Enter the name: B\n",
            "Enter the Employee ID: CSB\n",
            "Enter the branch: CSE\n",
            "Enter the salary: 1000\n",
            "=================================================\n",
            "=================================================\n",
            "Enter the name: C\n",
            "Enter the Employee ID: ECEC\n",
            "Enter the branch: ECE\n",
            "Enter the salary: 10000\n",
            "=================================================\n",
            "=================================================\n",
            "Enter the name: D\n",
            "Enter the Employee ID: DSAI\n",
            "Enter the branch: DSAI\n",
            "Enter the salary: 10000\n",
            "=================================================\n",
            "=================================================\n",
            "Enter the name: E\n",
            "Enter the Employee ID: ECEE\n",
            "Enter the branch: ECE\n",
            "Enter the salary: 10000\n",
            "=================================================\n",
            "=================================================\n",
            "Enter the name: F\n",
            "Enter the Employee ID: CSF\n",
            "Enter the branch: CSE\n",
            "Enter the salary: 10000\n",
            "=================================================\n",
            "=================================================\n",
            "Enter the name: G\n",
            "Enter the Employee ID: CSG\n",
            "Enter the branch: CSE\n",
            "Enter the salary: 10000\n",
            "=================================================\n",
            "=================================================\n",
            "Enter the name: H\n",
            "Enter the Employee ID: MechH\n",
            "Enter the branch: Mechanical\n",
            "Enter the salary: 10000\n",
            "=================================================\n",
            "=================================================\n",
            "Enter the name: I\n",
            "Enter the Employee ID: CSI\n",
            "Enter the branch: CSE\n",
            "Enter the salary: 10000\n",
            "=================================================\n",
            "=================================================\n",
            "Enter the name: J\n",
            "Enter the Employee ID: DSJ\n",
            "Enter the branch: DSAI\n",
            "Enter the salary: 10000\n",
            "=================================================\n",
            "=================================================\n",
            "Name: A\n",
            "Emp ID: CSA\n",
            "Branch: CSE\n",
            "Salary: 1000\n",
            "=================================================\n",
            "=================================================\n",
            "Name: B\n",
            "Emp ID: CSB\n",
            "Branch: CSE\n",
            "Salary: 1000\n",
            "=================================================\n",
            "=================================================\n",
            "Name: C\n",
            "Emp ID: ECEC\n",
            "Branch: ECE\n",
            "Salary: 10000\n",
            "=================================================\n",
            "=================================================\n",
            "Name: D\n",
            "Emp ID: DSAI\n",
            "Branch: DSAI\n",
            "Salary: 10000\n",
            "=================================================\n",
            "=================================================\n",
            "Name: E\n",
            "Emp ID: ECEE\n",
            "Branch: ECE\n",
            "Salary: 10000\n",
            "=================================================\n",
            "=================================================\n",
            "Name: F\n",
            "Emp ID: CSF\n",
            "Branch: CSE\n",
            "Salary: 10000\n",
            "=================================================\n",
            "=================================================\n",
            "Name: G\n",
            "Emp ID: CSG\n",
            "Branch: CSE\n",
            "Salary: 10000\n",
            "=================================================\n",
            "=================================================\n",
            "Name: H\n",
            "Emp ID: MechH\n",
            "Branch: Mechanical\n",
            "Salary: 10000\n",
            "=================================================\n",
            "=================================================\n",
            "Name: I\n",
            "Emp ID: CSI\n",
            "Branch: CSE\n",
            "Salary: 10000\n",
            "=================================================\n",
            "=================================================\n",
            "Name: J\n",
            "Emp ID: DSJ\n",
            "Branch: DSAI\n",
            "Salary: 10000\n",
            "=================================================\n"
          ]
        }
      ]
    },
    {
      "cell_type": "code",
      "metadata": {
        "id": "GkgqUobOqwde",
        "colab": {
          "base_uri": "https://localhost:8080/"
        },
        "outputId": "2ed4d480-7dc1-4584-8877-5661d5385ec1"
      },
      "source": [
        "class account:\n",
        "  def __init__(self, Name, Account_No, Deposit):\n",
        "    self.accountNumber = Account_No\n",
        "    self.Name = Name\n",
        "    self.Savings = Deposit\n",
        "\n",
        "  def Deposit(self, amount):\n",
        "    self.Savings += amount\n",
        "    print(\"===============================================\")\n",
        "    print(f\"Rs {amount} has been deposited\")\n",
        "    print(f\"current savings: {self.Savings}\")\n",
        "    print(\"===============================================\")\n",
        "\n",
        "  def Withdraw(self, amount):\n",
        "    if (amount > self.Savings):\n",
        "      print(\"===============================================\")\n",
        "      print(\"Insufficient savings\")\n",
        "      print(\"===============================================\")\n",
        "    else:\n",
        "      print(\"===============================================\")\n",
        "      self.Savings -= amount\n",
        "      print(f\"Rs {amount} has been withdrawn\")\n",
        "      print(f\"current savings: {self.Savings}\")\n",
        "      print(\"===============================================\")\n",
        "\n",
        "  def check_balance(self):\n",
        "    print(\"===============================================\")\n",
        "    print(f\"current savings: {self.Savings}\")\n",
        "    print(\"===============================================\")\n",
        "\n",
        "  def displayAccount(self):\n",
        "    print(\"===============================================\")\n",
        "    print(\"Name:\", self.Name)\n",
        "    print(\"Account Number\", self.accountNumber)\n",
        "    print(f\"current savings: {self.Savings}\")\n",
        "    print(\"===============================================\")\n",
        "\n",
        "name = str(input(\"Enter your name: \"))\n",
        "account_no = int(input(\"Enter the account number: \"))\n",
        "deposit = int(input(\"Enter the initial balance: \"))\n",
        "User_acc = account(name, account_no, deposit)\n",
        "\n",
        "while True:\n",
        "  choice = int(input(\"Select an option:\\n1. Deposit\\n2. Withdraw\\n3. Check Balance\\n4. Display Account\\n5. Exit\\n\"))\n",
        "  if choice == 1:\n",
        "    amount = int(input(\"Enter the amount to deposit: \"))\n",
        "    User_acc.Deposit(amount)\n",
        "  elif choice == 2:\n",
        "    amount = int(input(\"Enter the amount to withdraw: \"))\n",
        "    User_acc.Withdraw(amount)\n",
        "  elif choice == 3:\n",
        "    User_acc.check_balance()\n",
        "  elif choice == 4:\n",
        "    User_acc.displayAccount()\n",
        "  elif choice == 5:\n",
        "    break\n",
        "  else:\n",
        "    print(\"enter a valid choice\")\n",
        "\n"
      ],
      "execution_count": null,
      "outputs": [
        {
          "name": "stdout",
          "output_type": "stream",
          "text": [
            "Enter your name: Rohit\n",
            "Enter the account number: 987654345678\n",
            "Enter the initial balance: 200000\n",
            "Select an option:\n",
            "1. Deposit\n",
            "2. Withdraw\n",
            "3. Check Balance\n",
            "4. Display Account\n",
            "5. Exit\n",
            "1\n",
            "Enter the amount to deposit: 4000\n",
            "===============================================\n",
            "Rs 4000 has been deposited\n",
            "current savings: 204000\n",
            "===============================================\n",
            "Select an option:\n",
            "1. Deposit\n",
            "2. Withdraw\n",
            "3. Check Balance\n",
            "4. Display Account\n",
            "5. Exit\n",
            "2\n",
            "Enter the amount to withdraw: 2000\n",
            "===============================================\n",
            "Rs 2000 has been withdrawn\n",
            "current savings: 202000\n",
            "===============================================\n",
            "Select an option:\n",
            "1. Deposit\n",
            "2. Withdraw\n",
            "3. Check Balance\n",
            "4. Display Account\n",
            "5. Exit\n",
            "3\n",
            "===============================================\n",
            "current savings: 202000\n",
            "===============================================\n",
            "Select an option:\n",
            "1. Deposit\n",
            "2. Withdraw\n",
            "3. Check Balance\n",
            "4. Display Account\n",
            "5. Exit\n",
            "4\n",
            "===============================================\n",
            "Name: Rohit\n",
            "Account Number 987654345678\n",
            "current savings: 202000\n",
            "===============================================\n",
            "Select an option:\n",
            "1. Deposit\n",
            "2. Withdraw\n",
            "3. Check Balance\n",
            "4. Display Account\n",
            "5. Exit\n",
            "5\n"
          ]
        }
      ]
    },
    {
      "cell_type": "code",
      "metadata": {
        "colab": {
          "base_uri": "https://localhost:8080/"
        },
        "id": "lyBaeN56XI-1",
        "outputId": "95eea130-5e57-4eaf-e7cc-1aa229743d3d"
      },
      "source": [
        "class Student:\n",
        "  def __init__(self, name, USN, marks : list):\n",
        "    self.name = name\n",
        "    self.USN = USN\n",
        "    self.marks = marks\n",
        "\n",
        "  def disp(self):\n",
        "    print(\"Name:\", self.name)\n",
        "    print(\"USN:\", self.USN)\n",
        "    print(\"Maths:\", self.marks[0])\n",
        "    print(\"Physics:\", self.marks[1])\n",
        "    print(\"Chemistry:\", self.marks[2])\n",
        "\n",
        "S1 = Student(\"Rahul\", \"20BCS150\", [60, 50, 60])\n",
        "S1.disp()"
      ],
      "execution_count": null,
      "outputs": [
        {
          "output_type": "stream",
          "name": "stdout",
          "text": [
            "Name: Rahul\n",
            "USN: 20BCS150\n",
            "Maths: 60\n",
            "Physics: 50\n",
            "Chemistry: 60\n"
          ]
        }
      ]
    },
    {
      "cell_type": "code",
      "metadata": {
        "id": "PGHu-K8pabU6",
        "colab": {
          "base_uri": "https://localhost:8080/"
        },
        "outputId": "1d35b034-ec54-41ce-fd2b-5b060b2dfe02"
      },
      "source": [
        "class Patient:\n",
        "  def __init__(self, name, admission_date, symptoms : list, oxy_level, discharge_date):\n",
        "    self.name = name\n",
        "    self.admission_date = admission_date\n",
        "    self.symptoms = symptoms\n",
        "    self.oxy_level = oxy_level\n",
        "    self.discharge_date = discharge_date\n",
        "\n",
        "class PatientData:\n",
        "  def __init__(self):\n",
        "    self.oxygen_support = []\n",
        "    self.general_ward = []\n",
        "\n",
        "  def addPatient(self, patient):\n",
        "    if (patient.oxy_level < 90):\n",
        "      self.oxygen_support.append(patient)\n",
        "    else:\n",
        "      self.general_ward.append(patient)\n",
        "\n",
        "  def numberOxygen(self):\n",
        "    print(f\"The number of patients needing oxygen support is {len(self.oxygen_support)}\")\n",
        "\n",
        "  def numberGeneral(self):\n",
        "    print(f\"The number of patients in general ward is {len(self.general_ward)}\")\n",
        "\n",
        "  def totalPatients(self):\n",
        "    print(f\"The number of patients is {len(self.general_ward)+len(self.oxygen_support)}\")\n",
        "\n",
        "  def patientInfo(self):\n",
        "    print(\"Patients in oxygen support\")\n",
        "    print(\"========================================================\")\n",
        "    for patient in self.oxygen_support:\n",
        "      print(\"========================================================\")\n",
        "      print(\"Name:\", patient.name)\n",
        "      print(\"Admission Date:\", patient.admission_date)\n",
        "      print(\"symptoms:\", patient.symptoms)\n",
        "      print(\"oxygen level:\", patient.oxy_level)\n",
        "      print(\"Discharge Date:\", patient.discharge_date)\n",
        "      print(\"========================================================\")\n",
        "\n",
        "    print(\"Patients in General ward\")\n",
        "    print(\"========================================================\")\n",
        "    for patient in self.general_ward:\n",
        "      print(\"========================================================\")\n",
        "      print(\"Name:\", patient.name)\n",
        "      print(\"Admission Date:\", patient.admission_date)\n",
        "      print(\"symptoms:\", patient.symptoms)\n",
        "      print(\"oxygen level:\", patient.oxy_level)\n",
        "      print(\"Discharge Date:\", patient.discharge_date)\n",
        "      print(\"========================================================\")\n",
        "\n",
        "p1 = Patient(\"ABC\", \"6/09/2021\", [\"Diarrhea\", \"Nausea\"], 80, \"30/09/2021\")\n",
        "p2 = Patient(\"XYZ\", \"10/09/2021\", [\"Fatigue\", \"Fever\"], 110, \"28/09/2021\")\n",
        "\n",
        "db = PatientData()\n",
        "db.addPatient(p1)\n",
        "db.addPatient(p2)\n",
        "db.patientInfo()\n",
        "db.numberOxygen()\n",
        "db.numberGeneral()\n",
        "db.totalPatients()"
      ],
      "execution_count": 3,
      "outputs": [
        {
          "output_type": "stream",
          "name": "stdout",
          "text": [
            "Patients in oxygen support\n",
            "========================================================\n",
            "========================================================\n",
            "Name: ABC\n",
            "Admission Date: 6/09/2021\n",
            "symptoms: ['Diarrhea', 'Nausea']\n",
            "oxygen level: 80\n",
            "Discharge Date: 30/09/2021\n",
            "========================================================\n",
            "Patients in General ward\n",
            "========================================================\n",
            "========================================================\n",
            "Name: XYZ\n",
            "Admission Date: 10/09/2021\n",
            "symptoms: ['Fatigue', 'Fever']\n",
            "oxygen level: 110\n",
            "Discharge Date: 28/09/2021\n",
            "========================================================\n",
            "The number of patients needing oxygen support is 1\n",
            "The number of patients in general ward is 1\n",
            "The number of patients is 2\n"
          ]
        }
      ]
    },
    {
      "cell_type": "code",
      "metadata": {
        "colab": {
          "base_uri": "https://localhost:8080/"
        },
        "id": "7WGMKhFk6JOi",
        "outputId": "76f9b041-bbdf-4c10-8780-6e0e1449381a"
      },
      "source": [
        "class Time:\n",
        "  def __init__(self, hour = 0, mins = 0, secs = 0):\n",
        "    self.mins = secs//60\n",
        "    self.secs = secs%60\n",
        "    self.mins += mins\n",
        "    self.hour = self.mins//60\n",
        "    self.mins = self.mins%60\n",
        "    self.hour = self.hour%24\n",
        "\n",
        "  def disp(self):\n",
        "    print(\"{0:2d}:{1:2d}:{2:2d}\".format(self.hour, self.mins, self.secs))\n",
        "\n",
        "zero_time = Time()\n",
        "zero_time.disp()\n",
        "\n",
        "random_time = Time(25, 67, 120)\n",
        "random_time.disp()"
      ],
      "execution_count": 13,
      "outputs": [
        {
          "output_type": "stream",
          "name": "stdout",
          "text": [
            " 0: 0: 0\n",
            " 1: 9: 0\n"
          ]
        }
      ]
    },
    {
      "cell_type": "code",
      "metadata": {
        "colab": {
          "base_uri": "https://localhost:8080/"
        },
        "id": "nBwVyMrC96tK",
        "outputId": "200f7d8e-17d6-4120-b0dd-21e687553a6a"
      },
      "source": [
        "class Student:\n",
        "  def __init__(self, name : str, age : int, roll_number : int):\n",
        "    self.name = name\n",
        "    self.age = age\n",
        "    self.roll = roll_number\n",
        "    \n",
        "  @classmethod\n",
        "  def compareAge(cls, s1, s2):\n",
        "    if s1.age == s2.age:\n",
        "      print(\"Equal age\")\n",
        "    else:\n",
        "      print(\"Ages not equal\")\n",
        "\n",
        "rohit = Student(\"Rohit\", 20, 19)\n",
        "rahul = Student(\"Rahul\", 19, 20)\n",
        "\n",
        "Student.compareAge(rohit, rahul)"
      ],
      "execution_count": 18,
      "outputs": [
        {
          "output_type": "stream",
          "name": "stdout",
          "text": [
            "Ages not equal\n"
          ]
        }
      ]
    },
    {
      "cell_type": "code",
      "metadata": {
        "colab": {
          "base_uri": "https://localhost:8080/"
        },
        "id": "57Svs7lHCy-y",
        "outputId": "45052b57-ad22-4290-ac71-e4e36fc300c8"
      },
      "source": [
        "class Student:\n",
        "  sem = 3\n",
        "  Institute = \"Indian Institute of Information Technology\"\n",
        "  def __init__(self, name : str, usn : int):\n",
        "    self.name = name\n",
        "    self.usn = usn\n",
        "\n",
        "  def dispInst(self):\n",
        "    print(\"sem:\", self.sem)\n",
        "    print(\"Institute:\", self.Institute)\n",
        "    print(\"Name:\", self.name)\n",
        "    print(\"USN:\", self.usn)\n",
        "\n",
        "  @classmethod\n",
        "  def dispCls(cls):\n",
        "    print(\"Class Sem:\", cls.sem)\n",
        "    print(\"Class institute:\", cls.Institute)\n",
        "\n",
        "s1 = Student(\"Rahul\", 19)\n",
        "s1.dispInst()\n",
        "print(\"============================================================\")\n",
        "Student.dispCls()"
      ],
      "execution_count": 22,
      "outputs": [
        {
          "output_type": "stream",
          "name": "stdout",
          "text": [
            "sem: 3\n",
            "Institute: Indian Institute of Information Technology\n",
            "Name: Rahul\n",
            "USN: 19\n",
            "============================================================\n",
            "Class Sem: 3\n",
            "Class institute: Indian Institute of Information Technology\n"
          ]
        }
      ]
    },
    {
      "cell_type": "code",
      "metadata": {
        "colab": {
          "base_uri": "https://localhost:8080/"
        },
        "id": "60eKrvUjMUdR",
        "outputId": "c8175385-18b2-4907-c6e5-97be08190de7"
      },
      "source": [
        "\n",
        "\n",
        "class Student_Uni:\n",
        "\n",
        "  def __init__(self, Name, roll_number, sem, laptop_name, laptop_cpu, laptop_ram, laptop_hard_disk):\n",
        "    self.name = Name\n",
        "    self.roll_num = roll_number\n",
        "    self.sem = sem\n",
        "    self.laptop = self.Laptop(laptop_name, laptop_cpu, laptop_ram, laptop_hard_disk)\n",
        "\n",
        "\n",
        "  class Laptop:\n",
        "    def __init__(self, name, cpu, ram : int, hard_disk):\n",
        "      self.name = name\n",
        "      self.cpu = cpu\n",
        "      self.ram = ram\n",
        "      self.hard_disk = hard_disk\n",
        "\n",
        "    def specifications(self):\n",
        "      print(\"Laptop Name:\", self.name)\n",
        "      print(\"Laptop CPU:\", self.cpu)\n",
        "      print(\"Laptop RAM:\", self.ram, \"GB\")\n",
        "      print(\"Laptop Hard disk:\", self.hard_disk)\n",
        "\n",
        "  def disp(self):\n",
        "    print(\"Name:\", self.name)\n",
        "    print(\"Roll Number:\", self.roll_num)\n",
        "    print(\"Sem:\", self.sem)\n",
        "    self.laptop.specifications()\n",
        "\n",
        "Amit = Student_Uni(\"Amit\", 50 , 3,\"HP OMEN\", \"Intel i12\", 16, \"512 GB SSD\")\n",
        "Amit.disp()"
      ],
      "execution_count": 26,
      "outputs": [
        {
          "output_type": "stream",
          "name": "stdout",
          "text": [
            "Name: Amit\n",
            "Roll Number: 50\n",
            "Sem: 3\n",
            "Laptop Name: HP OMEN\n",
            "Laptop CPU: Intel i12\n",
            "Laptop RAM: 16 GB\n",
            "Laptop Hard disk: 512 GB SSD\n"
          ]
        }
      ]
    },
    {
      "cell_type": "code",
      "metadata": {
        "id": "t5QSkUS2Rqob"
      },
      "source": [
        ""
      ],
      "execution_count": null,
      "outputs": []
    }
  ]
}