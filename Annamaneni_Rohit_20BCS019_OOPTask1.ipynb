{
  "nbformat": 4,
  "nbformat_minor": 0,
  "metadata": {
    "colab": {
      "name": "Annamaneni_Rohit_20BCS019_OOPTask1.ipynb",
      "provenance": []
    },
    "kernelspec": {
      "name": "python3",
      "display_name": "Python 3"
    },
    "language_info": {
      "name": "python"
    }
  },
  "cells": [
    {
      "cell_type": "code",
      "metadata": {
        "colab": {
          "base_uri": "https://localhost:8080/"
        },
        "id": "Jt4fwlUkL_Dk",
        "outputId": "403db6f7-f0b4-470d-c163-3418060c3ad8"
      },
      "source": [
        "def isLeap(year):\n",
        "  if (year%4 != 0):\n",
        "    return False\n",
        "  else:\n",
        "    if (year%100 != 0):\n",
        "      return True\n",
        "    elif (year%100 == 0):\n",
        "      if (year%400 == 0):\n",
        "        return True\n",
        "      else:\n",
        "        return False\n",
        "\n",
        "year = int(input(\"Enter the year: \"))\n",
        "print(isLeap(year))"
      ],
      "execution_count": 28,
      "outputs": [
        {
          "output_type": "stream",
          "name": "stdout",
          "text": [
            "Enter the year: 2020\n",
            "True\n"
          ]
        }
      ]
    },
    {
      "cell_type": "code",
      "metadata": {
        "colab": {
          "base_uri": "https://localhost:8080/"
        },
        "id": "7J9TI4CPM6Q5",
        "outputId": "a9242bc1-0121-432a-9a32-400c5ee666fe"
      },
      "source": [
        "def isWeird(num):\n",
        "  print(num)\n",
        "  if (num%2 != 0):\n",
        "    print(\"Weird\")\n",
        "  else:\n",
        "    if num in range(2, 6):\n",
        "      print(\"Not weird\")\n",
        "    elif num in range(6, 21):\n",
        "      print(\"Weird\")\n",
        "    elif num > 20:\n",
        "      print(\"Not weird\")\n",
        "\n",
        "isWeird(55)\n",
        "isWeird(4)\n",
        "isWeird(20)\n",
        "isWeird(22)"
      ],
      "execution_count": 29,
      "outputs": [
        {
          "output_type": "stream",
          "name": "stdout",
          "text": [
            "55\n",
            "Weird\n",
            "4\n",
            "Not weird\n",
            "20\n",
            "Weird\n",
            "22\n",
            "Not weird\n"
          ]
        }
      ]
    },
    {
      "cell_type": "code",
      "metadata": {
        "colab": {
          "base_uri": "https://localhost:8080/"
        },
        "id": "Ys7a8YoXN0yv",
        "outputId": "c436fbe7-b548-4d3a-82e9-98bdbd6fe57b"
      },
      "source": [
        "def Late(Arrivals, person):\n",
        "  if person in Arrivals[len(Arrivals)//2: -1]:\n",
        "    print(\"Fashionably late\")\n",
        "  else:\n",
        "    print(\"Not Fashionably late\")\n",
        "\n",
        "Arrivals = [\"Hardik\", \"Rahul\", \"Virat\", \"Rishabh\", \"Mahi\", \"Rohit\", \"Rahane\"]\n",
        "Late(Arrivals, \"Hardik\")\n",
        "Late(Arrivals, \"Rahane\")\n",
        "Late(Arrivals, \"Rohit\")"
      ],
      "execution_count": 22,
      "outputs": [
        {
          "output_type": "stream",
          "name": "stdout",
          "text": [
            "Not Fashionably late\n",
            "Not Fashionably late\n",
            "Fashionably late\n"
          ]
        }
      ]
    },
    {
      "cell_type": "code",
      "metadata": {
        "colab": {
          "base_uri": "https://localhost:8080/"
        },
        "id": "8WGibZ8oP7nM",
        "outputId": "669e0cee-cfbe-493b-f9fa-b4c12d98dfd1"
      },
      "source": [
        "def FindString(doc_list, word):\n",
        "  return_list = []\n",
        "  for sentence in doc_list:\n",
        "    copy = sentence.replace(\".\", \"\")\n",
        "    copy = copy.replace(\",\", \"\")\n",
        "    copy = copy.split(\" \")\n",
        "    if word in copy:\n",
        "      return_list.append(sentence)\n",
        "  return return_list\n",
        "\n",
        "doc_list = [\"The Learn Python Challenge Rohit.\", \"They bought a car\", \"bangalore\", \"Rohit, is awesome\"]\n",
        "word = str(input(\"Enter the word to search for: \"))\n",
        "for sentence in FindString(doc_list, word):\n",
        "  print(sentence)"
      ],
      "execution_count": 27,
      "outputs": [
        {
          "output_type": "stream",
          "name": "stdout",
          "text": [
            "Enter the word to search for: Rohit\n",
            "The Learn Python Challenge Rohit.\n",
            "Rohit, is awesome\n"
          ]
        }
      ]
    },
    {
      "cell_type": "code",
      "metadata": {
        "colab": {
          "base_uri": "https://localhost:8080/"
        },
        "id": "6G_2QIbYRmBT",
        "outputId": "8389f69a-2339-4f5f-a494-6a0dae193ec6"
      },
      "source": [
        "#DA = 40% of BP = 0.4*BP\n",
        "#HRA = 20% of BP = 0.2*BP\n",
        "#GP = BP + DA + HRA = BP + 0.2*BP + 0.4*BP = 1.6*BP\n",
        "\n",
        "def GP(BP):\n",
        "  return 1.6*BP\n",
        "\n",
        "BP = int(input(\"Enter the BP: \"))\n",
        "print(GP(BP))"
      ],
      "execution_count": 26,
      "outputs": [
        {
          "output_type": "stream",
          "name": "stdout",
          "text": [
            "Enter the BP: 200\n",
            "320.0\n"
          ]
        }
      ]
    },
    {
      "cell_type": "code",
      "metadata": {
        "id": "xXGh1RFESqcb"
      },
      "source": [
        ""
      ],
      "execution_count": null,
      "outputs": []
    }
  ]
}