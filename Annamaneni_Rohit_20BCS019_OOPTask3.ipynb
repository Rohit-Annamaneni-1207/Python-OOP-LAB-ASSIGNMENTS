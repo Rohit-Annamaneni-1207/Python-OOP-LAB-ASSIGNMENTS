{
  "nbformat": 4,
  "nbformat_minor": 0,
  "metadata": {
    "colab": {
      "name": "Annamaneni_Rohit_20BCS019_OOPTask3.ipynb",
      "provenance": [],
      "collapsed_sections": [],
      "authorship_tag": "ABX9TyOJEke+aBYrjY0qertfA4b5",
      "include_colab_link": true
    },
    "kernelspec": {
      "name": "python3",
      "display_name": "Python 3"
    },
    "language_info": {
      "name": "python"
    }
  },
  "cells": [
    {
      "cell_type": "markdown",
      "metadata": {
        "id": "view-in-github",
        "colab_type": "text"
      },
      "source": [
        "<a href=\"https://colab.research.google.com/github/Rohit-Annamaneni-1207/Python-OOP-LAB-ASSIGNMENTS/blob/main/Annamaneni_Rohit_20BCS019_OOPTask3.ipynb\" target=\"_parent\"><img src=\"https://colab.research.google.com/assets/colab-badge.svg\" alt=\"Open In Colab\"/></a>"
      ]
    },
    {
      "cell_type": "markdown",
      "metadata": {
        "id": "0JQfueD547_P"
      },
      "source": [
        "# **Annamaneni Rohit**\n",
        "# **20BCS019**\n",
        "# **OOP LAB ASSIGNMENT 3**"
      ]
    },
    {
      "cell_type": "markdown",
      "metadata": {
        "id": "zbPUns224e67"
      },
      "source": [
        "# **Question 1**"
      ]
    },
    {
      "cell_type": "code",
      "metadata": {
        "colab": {
          "base_uri": "https://localhost:8080/"
        },
        "id": "q4gv4sMmloj3",
        "outputId": "e6f23f5b-4034-42bf-ed82-ec78aaab6cae"
      },
      "source": [
        "class Student:\n",
        "  def __init__(self):\n",
        "    self.name = str(input(\"Enter the Student Name: \"))\n",
        "    self.regNo = str(input(\"Enter the Student Register Number: \"))\n",
        "    self.Age = int(input(\"Enter the age of the student: \"))\n",
        "    self.Gender = str(input(\"Enter the Student's gender: \"))\n",
        "    self.Branch = str(input(\"Enter the branch that the student belongs to: \"))\n",
        "    self.sem = int(input(\"Current semester: \"))\n",
        "\n",
        "  def Info(self):\n",
        "    print(f\"======================{self.name} Result=================================\")\n",
        "    print(f\"Name: {self.name}\")\n",
        "    print(f\"Register No: {self.regNo}\")\n",
        "    print(f\"Age: {self.Age}\")\n",
        "    print(f\"Gender: {self.Gender}\")\n",
        "    print(f\"Branch: {self.Branch}\")\n",
        "    print(f\"Semester: {self.sem}\")\n",
        "\n",
        "class StudentResultInfo( Student ):\n",
        "  def __init__(self):\n",
        "    Student.__init__(self)\n",
        "    self.marks = float(input(\"Enter the marks acquired: \"))\n",
        "    self.percentage = float(input(\"Enter the percentage: \"))\n",
        "    self.grade = str(input(\"Assign Grade: \"))\n",
        "\n",
        "  def DisplayResult(self):\n",
        "    print(f\"======================{self.name} Result=================================\")\n",
        "    print(f\"Marks: {self.marks}\")\n",
        "    print(f\"Percentage: {self.percentage}\")\n",
        "    print(f\"Grade: {self.grade}\")\n",
        "\n",
        "result = StudentResultInfo()\n",
        "result.Info()\n",
        "result.DisplayResult()\n"
      ],
      "execution_count": null,
      "outputs": [
        {
          "output_type": "stream",
          "name": "stdout",
          "text": [
            "Enter the Student Name: Pratham\n",
            "Enter the Student Register Number: 20BCE123\n",
            "Enter the age of the student: 19\n",
            "Enter the Student's gender: Male\n",
            "Enter the branch that the student belongs to: CSE\n",
            "Current semester: 3\n",
            "Enter the marks acquired: 100.5\n",
            "Enter the percentage: 98\n",
            "Assign Grade: A+\n",
            "======================Pratham Result=================================\n",
            "Name: Pratham\n",
            "Register No: 20BCE123\n",
            "Age: 19\n",
            "Gender: Male\n",
            "Branch: CSE\n",
            "Semester: 3\n",
            "======================Pratham Result=================================\n",
            "Marks: 100.5\n",
            "Percentage: 98.0\n",
            "Grade: A+\n"
          ]
        }
      ]
    },
    {
      "cell_type": "markdown",
      "metadata": {
        "id": "Q1i0vIGU4wF7"
      },
      "source": [
        "# **Question 2**"
      ]
    },
    {
      "cell_type": "code",
      "metadata": {
        "colab": {
          "base_uri": "https://localhost:8080/"
        },
        "id": "uDKRqz05qDno",
        "outputId": "3ff9cd05-ead8-4588-fe81-fd7264a123b5"
      },
      "source": [
        "class PDF:\n",
        "  def __init__(self, Author, Desc, file_size):\n",
        "    self.auth = Author\n",
        "    self.desc = Desc\n",
        "    self.size = file_size\n",
        "\n",
        "  def threshold(self):\n",
        "    print(\"===========================Threshold Check===========================\")\n",
        "    if self.size > 500 :\n",
        "      print(\"Large file: File size exceeds 500 MB\")\n",
        "    else:\n",
        "      print(\"File size under 500 MB\")\n",
        "\n",
        "  def details(self):\n",
        "    print(\"===========================File Info===========================\")\n",
        "    print(f\"Author: {self.auth}\")\n",
        "    print(f\"Description:\\n{self.desc}\")\n",
        "    print(f\"File Size: {self.size} MB\")\n",
        "\n",
        "class Picture(PDF):\n",
        "  def __init__(self, Author, Desc, file_size, image_dimension : list):\n",
        "    PDF.__init__(self, Author, Desc, file_size)\n",
        "    self.dimensions = image_dimension\n",
        "\n",
        "  def details(self):\n",
        "    PDF.details(self)\n",
        "    print(f\"Dimensions: {self.dimensions[0]} x {self.dimensions[0]}\")\n",
        "\n",
        "  def Dimension_Check(self):\n",
        "    print(\"===========================Dimension Check===========================\")\n",
        "    if (self.dimensions[0]>100 or self.dimensions[1]>100):\n",
        "      print(\"Picture Dimensions exceed 100 x 100\")\n",
        "    else:\n",
        "      print(\"Picture within 100 x 100 dimensions\")\n",
        "\n",
        "\n",
        "print(\"\\n-------------PDF---------------\\n\")\n",
        "pdf = PDF(\"weuwif\", \"qwjodwodinecies\", 200)\n",
        "pdf.details()\n",
        "pdf.threshold()\n",
        "\n",
        "print(\"\\n-------------Picture---------------\\n\")\n",
        "\n",
        "Pic = Picture(\"djbs\", \"dsdfhwj\", 120, [123, 250])\n",
        "Pic.details()\n",
        "Pic.threshold()\n",
        "Pic.Dimension_Check()"
      ],
      "execution_count": null,
      "outputs": [
        {
          "output_type": "stream",
          "name": "stdout",
          "text": [
            "\n",
            "-------------PDF---------------\n",
            "\n",
            "===========================File Info===========================\n",
            "Author: weuwif\n",
            "Description:\n",
            "qwjodwodinecies\n",
            "File Size: 200 MB\n",
            "===========================Threshold Check===========================\n",
            "File size under 500 MB\n",
            "\n",
            "-------------Picture---------------\n",
            "\n",
            "===========================File Info===========================\n",
            "Author: djbs\n",
            "Description:\n",
            "dsdfhwj\n",
            "File Size: 120 MB\n",
            "Dimensions: 123 x 123\n",
            "===========================Threshold Check===========================\n",
            "File size under 500 MB\n",
            "===========================Dimension Check===========================\n",
            "Picture Dimensions exceed 100 x 100\n"
          ]
        }
      ]
    },
    {
      "cell_type": "markdown",
      "metadata": {
        "id": "AxPfSu9e4yXc"
      },
      "source": [
        "# **Question 3**"
      ]
    },
    {
      "cell_type": "code",
      "metadata": {
        "colab": {
          "base_uri": "https://localhost:8080/"
        },
        "id": "RRvYExtwtmqY",
        "outputId": "71c3abdf-d4c9-486b-cb67-3041b118358a"
      },
      "source": [
        "class Vehicle:\n",
        "  def __init__(self, name, mileage, capacity):\n",
        "    self.name = name\n",
        "    self.mileage = mileage\n",
        "    self.capacity = capacity\n",
        "\n",
        "  def fare(self):\n",
        "    print(\"Fare is:\", self.capacity*100)\n",
        "    return self.capacity*100\n",
        "\n",
        "class Bus:\n",
        "  def __init__(self, name, mileage, capacity):\n",
        "    Vehicle.__init__(self, name, mileage, capacity)\n",
        "\n",
        "  def fare(self):\n",
        "    fee = Vehicle.fare(self)\n",
        "    maintenance = 0.1 * fee\n",
        "    print(\"Maintenance Fee is:\", maintenance)\n",
        "    print(\"Total fare is:\", fee + maintenance)\n",
        "    return (fee + maintenance)\n",
        "\n",
        "APSRTC = Bus(\"APSRTC\", 20, 50)\n",
        "APSRTC.fare()"
      ],
      "execution_count": null,
      "outputs": [
        {
          "output_type": "stream",
          "name": "stdout",
          "text": [
            "Fare is: 5000\n",
            "Maintenance Fee is: 500.0\n",
            "Total fare is: 5500.0\n"
          ]
        },
        {
          "output_type": "execute_result",
          "data": {
            "text/plain": [
              "5500.0"
            ]
          },
          "metadata": {},
          "execution_count": 25
        }
      ]
    },
    {
      "cell_type": "code",
      "metadata": {
        "id": "7TzjC6mx0akg"
      },
      "source": [
        ""
      ],
      "execution_count": null,
      "outputs": []
    }
  ]
}