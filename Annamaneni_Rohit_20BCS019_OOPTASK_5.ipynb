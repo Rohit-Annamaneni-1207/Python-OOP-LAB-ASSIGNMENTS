{
  "nbformat": 4,
  "nbformat_minor": 0,
  "metadata": {
    "colab": {
      "name": "Annamaneni_Rohit_20BCS019_OOPTASK_5.ipynb",
      "provenance": [],
      "authorship_tag": "ABX9TyNyqJIxsVb9kIrUBbmMyWQY",
      "include_colab_link": true
    },
    "kernelspec": {
      "name": "python3",
      "display_name": "Python 3"
    },
    "language_info": {
      "name": "python"
    }
  },
  "cells": [
    {
      "cell_type": "markdown",
      "metadata": {
        "id": "view-in-github",
        "colab_type": "text"
      },
      "source": [
        "<a href=\"https://colab.research.google.com/github/Rohit-Annamaneni-1207/Python-OOP-LAB-ASSIGNMENTS/blob/main/Annamaneni_Rohit_20BCS019_OOPTASK_5.ipynb\" target=\"_parent\"><img src=\"https://colab.research.google.com/assets/colab-badge.svg\" alt=\"Open In Colab\"/></a>"
      ]
    },
    {
      "cell_type": "code",
      "metadata": {
        "colab": {
          "base_uri": "https://localhost:8080/"
        },
        "id": "b2qc74WFqZrc",
        "outputId": "331aa372-fe2a-4f15-d4e9-3d45fc7597de"
      },
      "source": [
        "from math import pi\n",
        "from abc import ABC, abstractmethod\n",
        "\n",
        "class Shape(ABC):\n",
        "  \n",
        "  @abstractmethod\n",
        "  def area():\n",
        "    pass\n",
        "\n",
        "class Circle(Shape):\n",
        "  def __init__(self, radius):\n",
        "    self.radius = radius\n",
        "\n",
        "  def area(self):\n",
        "    return pi*self.radius**2\n",
        "\n",
        "class Square(Shape):\n",
        "  def __init__(self, side):\n",
        "    self.length = side\n",
        "\n",
        "  def area(self):\n",
        "    return self.length**2\n",
        "\n",
        "class Rectangle(Shape):\n",
        "  def __init__(self, length, breadth):\n",
        "    self.l = length\n",
        "    self.b = breadth\n",
        "\n",
        "  def area(self):\n",
        "    return self.l*self.b\n",
        "\n",
        "C = Circle(5)\n",
        "S = Square(3)\n",
        "R = Rectangle(3, 4)\n",
        "\n",
        "print(C.area())\n",
        "print(S.area())\n",
        "print(R.area())\n"
      ],
      "execution_count": 3,
      "outputs": [
        {
          "output_type": "stream",
          "name": "stdout",
          "text": [
            "78.53981633974483\n",
            "9\n",
            "12\n"
          ]
        }
      ]
    },
    {
      "cell_type": "code",
      "metadata": {
        "colab": {
          "base_uri": "https://localhost:8080/"
        },
        "id": "NMI1zZVdsFec",
        "outputId": "c07a1244-67e7-407a-ed37-78dc4bdb29d7"
      },
      "source": [
        "from abc import ABC, abstractmethod\n",
        "\n",
        "class Travel():\n",
        "  def __init__(self, num_pass, dist, mode):\n",
        "    self.__number = num_pass\n",
        "    self.dist = dist\n",
        "    self.mode = mode\n",
        "\n",
        "  def access_num(self):\n",
        "    return self.__number\n",
        "\n",
        "  @abstractmethod\n",
        "  def calculate_cost(self):\n",
        "    pass\n",
        "\n",
        "class Train(Travel):\n",
        "  def __init__(self, num_pass, dist, mode):\n",
        "    super().__init__(num_pass, dist, mode)\n",
        "\n",
        "  def calculate_cost(self):\n",
        "    return 60*self.access_num()\n",
        "\n",
        "\n",
        "class Bus(Travel):\n",
        "  def __init__(self, num_pass, dist, mode):\n",
        "    super().__init__(num_pass, dist, mode)\n",
        "\n",
        "  def calculate_cost(self):\n",
        "    return 100*self.access_num()\n",
        "\n",
        "A = Train(10, 20, \"Tracks\")\n",
        "print(A.calculate_cost())\n",
        "\n",
        "B = Bus(10, 20, \"Road\")\n",
        "print(B.calculate_cost())\n"
      ],
      "execution_count": 34,
      "outputs": [
        {
          "output_type": "stream",
          "name": "stdout",
          "text": [
            "600\n",
            "1000\n"
          ]
        }
      ]
    },
    {
      "cell_type": "code",
      "metadata": {
        "colab": {
          "base_uri": "https://localhost:8080/"
        },
        "id": "lDTLDaVovyY5",
        "outputId": "4ee08d96-1dea-4e6a-9285-3b26795f3bb3"
      },
      "source": [
        "class Car:\n",
        "  def __init__(self, model):\n",
        "    self.model = model\n",
        "\n",
        "  def get_model(self):\n",
        "    return self.model\n",
        "\n",
        "c1 = Car(10)\n",
        "c2 = Car(11)\n",
        "\n",
        "c2.model, c1.model = c1.get_model(), c2.get_model()\n",
        "\n",
        "print(c1.model, c2.model)"
      ],
      "execution_count": 20,
      "outputs": [
        {
          "output_type": "stream",
          "name": "stdout",
          "text": [
            "11 10\n"
          ]
        }
      ]
    },
    {
      "cell_type": "code",
      "metadata": {
        "id": "9S1Z2j6ZAGZy"
      },
      "source": [
        ""
      ],
      "execution_count": null,
      "outputs": []
    }
  ]
}